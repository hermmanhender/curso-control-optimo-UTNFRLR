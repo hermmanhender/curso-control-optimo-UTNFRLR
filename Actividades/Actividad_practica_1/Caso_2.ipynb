{
  "nbformat": 4,
  "nbformat_minor": 0,
  "metadata": {
    "colab": {
      "provenance": [],
      "authorship_tag": "ABX9TyO29pUNAqWx3bnk8xH2fZzZ",
      "include_colab_link": true
    },
    "kernelspec": {
      "name": "python3",
      "display_name": "Python 3"
    },
    "language_info": {
      "name": "python"
    }
  },
  "cells": [
    {
      "cell_type": "markdown",
      "metadata": {
        "id": "view-in-github",
        "colab_type": "text"
      },
      "source": [
        "<a href=\"https://colab.research.google.com/github/hermmanhender/curso-control-optimo-UTNFRLR/blob/main/Actividades/Actividad_practica_1/Caso_2.ipynb\" target=\"_parent\"><img src=\"https://colab.research.google.com/assets/colab-badge.svg\" alt=\"Open In Colab\"/></a>"
      ]
    },
    {
      "cell_type": "markdown",
      "source": [
        "# Caso de estudio 2. Sistema de tres variables de estado\n",
        "\n",
        "Dadas las ecuaciones del motor de corriente continua con torque de carga $T_L$ no nulo, con los parámetros $L_{AA}=366·10^{-6}$; $J=5 · 10^{-9}$\n",
        "; $R_A=55.6$; $B=0$; $K_i=6.49 · 10^{-3}$\n",
        "; $K_m=6.53 \\cdotp 10^{-3}$\n",
        ":\n",
        "\n",
        "$\\frac{di_a}{dt} = -\\frac{R_A}{L_{AA}}i_a-\\frac{K_m}{L_{AA}}\\omega_r+\\frac{1}{L_{AA}}v_a$    (5)\n",
        "\n",
        "$\\frac{d\\omega_r}{dt} = \\frac{K_i}{J}i_a-\\frac{B_m}{J}\\omega_r-\\frac{1}{J}T_L$   (6)\n",
        "\n",
        "$\\frac{dθ_t}{dt} = \\omega_r$    (7)\n",
        "\n",
        "Implementar un algoritmo de simulación para inferir el comportamiento de las variables interés mediante integración Euler con $\\Delta t=10^{-7}$ segundos para:\n",
        "\n",
        "1- Obtener el torque máximo que puede soportar el motor modelado mediante las Ecs. (5), (6) y (7) cuando se lo alimenta con $12V$, graficando para 5 segundos de tiempo la velocidad angular y corriente $i_a$.\n",
        "\n",
        "2- Mostrar simulaciones de 5 segundos que permitan observar la corriente ia en todo momento y establecer su valor máximo como para dimensionar dispositivos electrónicos.\n",
        "\n",
        "3- Implementar un PID en tiempo discreto para que el ángulo del motor permanezca en una referencia de 1 radian. (Tip: partir de $K_P=0.1$; $K_i=0.01$; $K_D=5$). "
      ],
      "metadata": {
        "id": "Q4bVFDbEGxp8"
      }
    },
    {
      "cell_type": "code",
      "execution_count": null,
      "metadata": {
        "id": "0l6pu-MsBgXe"
      },
      "outputs": [],
      "source": []
    }
  ]
}