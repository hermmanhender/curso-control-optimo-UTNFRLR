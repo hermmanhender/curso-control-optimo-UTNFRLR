{
  "nbformat": 4,
  "nbformat_minor": 0,
  "metadata": {
    "colab": {
      "provenance": [],
      "authorship_tag": "ABX9TyPG+YxL11D4P1CnwjsIM6xT",
      "include_colab_link": true
    },
    "kernelspec": {
      "name": "python3",
      "display_name": "Python 3"
    },
    "language_info": {
      "name": "python"
    }
  },
  "cells": [
    {
      "cell_type": "markdown",
      "metadata": {
        "id": "view-in-github",
        "colab_type": "text"
      },
      "source": [
        "<a href=\"https://colab.research.google.com/github/hermmanhender/curso-control-optimo-UTNFRLR/blob/main/Actividades/Actividad_practica_1/Caso_1.ipynb\" target=\"_parent\"><img src=\"https://colab.research.google.com/assets/colab-badge.svg\" alt=\"Open In Colab\"/></a>"
      ]
    },
    {
      "cell_type": "markdown",
      "source": [
        "# Caso de estudio 1. Sistema de dos variables de estado\n",
        "\n",
        "Sea el sistema eléctrico de la Fig. 1-1, con las representaciones en variables de estado:\n",
        "\n",
        "![image.png](data:image/png;base64,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)\n",
        "\n",
        "$\\frac{dx}{dt} = A x(t) + b u(t)$           (1-1)\n",
        "\n",
        "$y = c^T x(t)$                              (1-2)\n",
        "\n",
        "donde las matrices contienen a los coeficientes del circuito,\n",
        "\n",
        "$A = \\left[\n",
        "\\begin{array}{2}\n",
        "-\\frac{R}{L} & -\\frac{1}{L} \\\\\n",
        "\\frac{1}{C} & 0\n",
        "\\end{array}\n",
        "\\right],\n",
        "b = \\left[\n",
        "\\begin{array}{2}\n",
        "\\frac{1}{L}\\\\\n",
        "0\n",
        "\\end{array}\n",
        "\\right]$\n",
        "\n"
      ],
      "metadata": {
        "id": "E4IsM3cICJic"
      }
    },
    {
      "cell_type": "markdown",
      "source": [
        "1- Asignar valores a $R=4,7KΩ$, $L=10 μHy$ y, $C=100nF$. Obtener simulaciones que permitan estudiar la dinámica del sistema, con una entrada de tensión escalón de $12V$, que cada $1ms$ cambia de signo."
      ],
      "metadata": {
        "id": "OrIjXayyFfIk"
      }
    },
    {
      "cell_type": "markdown",
      "source": [
        "2- Asignar valores a $R=5,6KΩ$, $L=10 \\mu Hy$, y $C=100nF$; repetir lo anterior para comparar el resultado y verificar la correcta simulación.\n"
      ],
      "metadata": {
        "id": "9oKzbwLyGAZT"
      }
    },
    {
      "cell_type": "code",
      "execution_count": null,
      "metadata": {
        "id": "0l6pu-MsBgXe"
      },
      "outputs": [],
      "source": []
    }
  ]
}