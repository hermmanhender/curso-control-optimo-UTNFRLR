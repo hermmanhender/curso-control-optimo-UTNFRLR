{
  "nbformat": 4,
  "nbformat_minor": 0,
  "metadata": {
    "colab": {
      "provenance": [],
      "authorship_tag": "ABX9TyO8sTpf6yNRViFuxEsgDX6e",
      "include_colab_link": true
    },
    "kernelspec": {
      "name": "python3",
      "display_name": "Python 3"
    },
    "language_info": {
      "name": "python"
    }
  },
  "cells": [
    {
      "cell_type": "markdown",
      "metadata": {
        "id": "view-in-github",
        "colab_type": "text"
      },
      "source": [
        "<a href=\"https://colab.research.google.com/github/hermmanhender/curso-control-optimo-UTNFRLR/blob/main/Actividades/Actividad_practica_1/Caso_1.ipynb\" target=\"_parent\"><img src=\"https://colab.research.google.com/assets/colab-badge.svg\" alt=\"Open In Colab\"/></a>"
      ]
    },
    {
      "cell_type": "markdown",
      "source": [
        "# Caso de estudio 1. Sistema de dos variables de estado\n",
        "\n",
        "Sea el sistema eléctrico de la Fig. 1-1, con las representaciones en variables de estado:\n",
        "\n",
        "$\\frac{dx}{dt} = A x(t) + b u(t)$           (1-1)\n",
        "\n",
        "$y = c^T x(t)$                              (1-2)\n",
        "\n",
        "donde las matrices contienen a los coeficientes del circuito,\n",
        "\n",
        "$A = \\left[\n",
        "\\begin{array}{2}\n",
        "-\\frac{R}{L} & -\\frac{1}{L} \\\\\n",
        "\\frac{1}{C} & 0\n",
        "\\end{array}\n",
        "\\right],\n",
        "b = \\left[\n",
        "\\begin{array}{2}\n",
        "\\frac{1}{L}\\\\\n",
        "0\n",
        "\\end{array}\n",
        "\\right]$\n",
        "\n"
      ],
      "metadata": {
        "id": "E4IsM3cICJic"
      }
    },
    {
      "cell_type": "markdown",
      "source": [
        "1- Asignar valores a $R=4,7KΩ$, $L=10 μHy$ y, $C=100nF$. Obtener simulaciones que permitan estudiar la dinámica del sistema, con una entrada de tensión escalón de $12V$, que cada $1ms$ cambia de signo."
      ],
      "metadata": {
        "id": "OrIjXayyFfIk"
      }
    },
    {
      "cell_type": "markdown",
      "source": [
        "2- Asignar valores a $R=5,6KΩ$, $L=10 \\mu Hy$, y $C=100nF$; repetir lo anterior para comparar el resultado y verificar la correcta simulación.\n"
      ],
      "metadata": {
        "id": "9oKzbwLyGAZT"
      }
    },
    {
      "cell_type": "code",
      "execution_count": null,
      "metadata": {
        "id": "0l6pu-MsBgXe"
      },
      "outputs": [],
      "source": []
    }
  ]
}